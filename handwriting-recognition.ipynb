{
 "nbformat": 4,
 "nbformat_minor": 2,
 "metadata": {
  "language_info": {
   "name": "python",
   "codemirror_mode": {
    "name": "ipython",
    "version": 2
   },
   "version": "2.7.17-final"
  },
  "orig_nbformat": 2,
  "file_extension": ".py",
  "mimetype": "text/x-python",
  "name": "python",
  "npconvert_exporter": "python",
  "pygments_lexer": "ipython2",
  "version": 2,
  "kernelspec": {
   "name": "python271764bitf2edce1dc57e484982e3974789d9b34c",
   "display_name": "Python 2.7.17 64-bit"
  }
 },
 "cells": [
  {
   "cell_type": "code",
   "execution_count": 11,
   "metadata": {},
   "outputs": [
    {
     "name": "stdout",
     "output_type": "stream",
     "text": "magic number: 2049\nitem num: 60000\nmagic number: 2051\nitem num: 60000, 28 row * 28 col\n5.0\n"
    },
    {
     "data": {
      "image/png": "[encoded data removed]",
      "text/plain": "<Figure size 432x288 with 1 Axes>"
     },
     "metadata": {
      "needs_background": "light"
     },
     "output_type": "display_data"
    }
   ],
   "source": [
    "\n",
    "import struct\n",
    "import numpy as np\n",
    "import matplotlib.pyplot as plt\n",
    "\n",
    "def parse_idx3(path):\n",
    "    # read bin data from file\n",
    "    bin_data = open(path, 'rb').read()\n",
    "\n",
    "    # parse head info\n",
    "    offset = 0\n",
    "    # read first 4 line\n",
    "    format_head = '>iiii'\n",
    "    magic_number, item_num, row_num, col_num = struct.unpack_from(format_head, bin_data, offset)\n",
    "    print('magic number: %d' % magic_number)\n",
    "    print('item num: %d, %d row * %d col' % (item_num, row_num, col_num))\n",
    "\n",
    "    # parse data\n",
    "    item_size = row_num * col_num\n",
    "    # read one item once\n",
    "    format_data = '>' + str(item_size) + 'B'\n",
    "    # set offest to where we have finished reading\n",
    "    offset = struct.calcsize(format_head)\n",
    "    # create an empty array and fill it\n",
    "    items = np.empty((item_num, row_num, col_num))\n",
    "    for i in range(item_num):\n",
    "        items[i] = np.array(struct.unpack_from(format_data, bin_data, offset)).reshape((row_num, col_num))\n",
    "        offset = offset + struct.calcsize(format_data)\n",
    "    return items\n",
    "\n",
    "# same as parse_idx3\n",
    "def parse_idx1(path):\n",
    "    bin_data = open(path, 'rb').read()\n",
    "    offset = 0\n",
    "    format_head = '>ii'\n",
    "    magic_number, item_num = struct.unpack_from(format_head, bin_data, offset)\n",
    "    print('magic number: %d' % magic_number)\n",
    "    print('item num: %d' % item_num)\n",
    "    format_data = '>B'\n",
    "    offset = struct.calcsize(format_head)\n",
    "    items = np.empty(item_num)\n",
    "    for i in range(item_num):\n",
    "        items[i] = struct.unpack_from(format_data, bin_data, offset)[0]\n",
    "        offset = offset + struct.calcsize(format_data)\n",
    "    return items\n",
    "\n",
    "\n",
    "train_labels_path = 'D:/MY/ml-data/handwritting-recognition/train-labels.idx1-ubyte'\n",
    "train_images_path = 'D:/MY/ml-data/handwritting-recognition/train-images.idx3-ubyte'\n",
    "\n",
    "train_labels = parse_idx1(train_labels_path)\n",
    "train_images = parse_idx3(train_images_path)\n",
    "print(train_labels[0])\n",
    "plt.imshow(train_images[0], cmap='gray')\n",
    "plt.show()"
   ]
  },
  {
   "cell_type": "code",
   "execution_count": null,
   "metadata": {},
   "outputs": [],
   "source": []
  }
 ]
}